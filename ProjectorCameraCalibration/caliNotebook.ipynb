{
 "cells": [
  {
   "cell_type": "code",
   "execution_count": 52,
   "metadata": {},
   "outputs": [],
   "source": [
    "import os\n",
    "import glob\n",
    "os.environ[\"OPENCV_IO_ENABLE_OPENEXR\"]=\"1\"\n",
    "import cv2\n",
    "import numpy as np\n",
    "from natsort import natsorted\n",
    "\n",
    "\n",
    "# Constants\n",
    "INPUT_DIR = \"testCalib\"\n",
    "OUTPUT_DIR = \"decoded\"\n",
    "CHESSBOARD_SIZE = (9, 6)"
   ]
  },
  {
   "cell_type": "code",
   "execution_count": 53,
   "metadata": {},
   "outputs": [],
   "source": [
    "def detect_corners(image_path):\n",
    "    img = cv2.imread(image_path, cv2.IMREAD_GRAYSCALE)\n",
    "    ret, corners = cv2.findChessboardCorners(img, CHESSBOARD_SIZE, None)\n",
    "    if ret:\n",
    "        criteria = (cv2.TERM_CRITERIA_EPS + cv2.TERM_CRITERIA_MAX_ITER, 30, 0.001)\n",
    "        corners = cv2.cornerSubPix(img, corners, (11, 11), (-1, -1), criteria)\n",
    "        return corners\n",
    "    else:\n",
    "        return None"
   ]
  },
  {
   "cell_type": "code",
   "execution_count": 54,
   "metadata": {},
   "outputs": [],
   "source": [
    "def convert_to_projector_coordinates(camera_corners, decoded_x, decoded_y):\n",
    "    projector_corners = []\n",
    "    height, width = decoded_x.shape\n",
    "    for corner in camera_corners:\n",
    "        x, y = corner.ravel()\n",
    "        if 0 <= x < width and 0 <= y < height:  # Check bounds\n",
    "            proj_x = decoded_x[int(y), int(x)]\n",
    "            proj_y = decoded_y[int(y), int(x)]\n",
    "            projector_corners.append([[proj_x, proj_y]])\n",
    "    projector_corners = np.array(projector_corners, dtype=np.float32)\n",
    "    return projector_corners"
   ]
  },
  {
   "cell_type": "code",
   "execution_count": 55,
   "metadata": {},
   "outputs": [],
   "source": [
    "\n",
    "def compute_intrinsics_and_distortion(objpoints, imgpoints, img_shape):\n",
    "    ret, matrix, dist_coeffs, rvecs, tvecs = cv2.calibrateCamera(objpoints, imgpoints, img_shape, None, None)\n",
    "    print(\"ret:\", ret)\n",
    "    print(\"mtx:\", matrix)\n",
    "    print(\"dist:\", dist_coeffs)\n",
    "    print(\"rvecs:\", rvecs)\n",
    "    print(\"tvecs:\", tvecs)\n",
    "    return matrix, dist_coeffs, rvecs, tvecs"
   ]
  },
  {
   "cell_type": "code",
   "execution_count": 56,
   "metadata": {},
   "outputs": [],
   "source": [
    "def perform_stereo_calibration(objpoints, camera_corners, projector_corners, cam_matrix, cam_dist, proj_matrix, proj_dist):\n",
    "    ret, _, _, _, _, R, T, E, F = cv2.stereoCalibrate(\n",
    "        objpoints, camera_corners, projector_corners,\n",
    "        cam_matrix, cam_dist,\n",
    "        proj_matrix, proj_dist,\n",
    "        None\n",
    "    )\n",
    "    return R, T"
   ]
  },
  {
   "cell_type": "code",
   "execution_count": 65,
   "metadata": {},
   "outputs": [
    {
     "name": "stdout",
     "output_type": "stream",
     "text": [
      "['0.jpg', '0x.jpg', '0y.jpg', '1.jpg', '1x.jpg', '1y.jpg', '2.jpg', '2x.jpg', '2y.jpg', '3.jpg', '3x.jpg', '3y.jpg', '4.jpg', '4x.jpg', '4y.jpg', '5.jpg', '5x.jpg', '5y.jpg', '6.jpg', '6x.jpg', '6y.jpg', '7.jpg', '7x.jpg', '7y.jpg', '8.jpg', '8x.jpg', '8y.jpg', '10.jpg', '10x.jpg', '10y.jpg']\n"
     ]
    }
   ],
   "source": [
    "files = sorted(os.listdir(INPUT_DIR), key=lambda x: os.path.getmtime(os.path.join(INPUT_DIR, x)))\n",
    "\n",
    "# Define the directory name\n",
    "directory_name = 'testCalib'\n",
    "\n",
    "# Define the pattern for the filenames\n",
    "pattern = os.path.join(directory_name, '*.jpg')\n",
    "\n",
    "files_with_path = glob.glob(pattern)\n",
    "\n",
    "# Extract just the file names without the full path\n",
    "file_names = [os.path.basename(file) for file in files_with_path]\n",
    "\n",
    "# Separate file names based on 'x' and 'y' in their names\n",
    "\n",
    "# Create an array containing the files\n",
    "all_files = natsorted(file_names)\n",
    "\n",
    "# Display the resulting array\n",
    "print(all_files)\n"
   ]
  },
  {
   "cell_type": "code",
   "execution_count": 66,
   "metadata": {},
   "outputs": [
    {
     "name": "stdout",
     "output_type": "stream",
     "text": [
      "['0x.jpg', '0y.jpg', '0.jpg', '1.jpg', '10.jpg', '10x.jpg', '10y.jpg', '1x.jpg', '1y.jpg', '2.jpg', '2x.jpg', '3.jpg', '2y.jpg', '3x.jpg', '3y.jpg', '4.jpg', '4x.jpg', '4y.jpg', '5.jpg', '5x.jpg', '5y.jpg', '6.jpg', '6x.jpg', '6y.jpg', '7.jpg', '7x.jpg', '7y.jpg', '8.jpg', '8x.jpg', '8y.jpg']\n"
     ]
    }
   ],
   "source": [
    "white_files = files[::3]\n",
    "print(files)\n",
    "all_camera_corners = []\n",
    "all_projector_corners = []\n",
    "objpoints = []"
   ]
  },
  {
   "cell_type": "code",
   "execution_count": 73,
   "metadata": {},
   "outputs": [
    {
     "name": "stdout",
     "output_type": "stream",
     "text": [
      "decoded\\0x_x.exr\n"
     ]
    },
    {
     "ename": "AttributeError",
     "evalue": "'NoneType' object has no attribute 'astype'",
     "output_type": "error",
     "traceback": [
      "\u001b[1;31m---------------------------------------------------------------------------\u001b[0m",
      "\u001b[1;31mAttributeError\u001b[0m                            Traceback (most recent call last)",
      "\u001b[1;32mc:\\Users\\hayes\\Documents\\Github\\Structured_Light_Camera\\ProjectorCameraCalibration\\caliNotebook.ipynb Cell 8\u001b[0m line \u001b[0;36m9\n\u001b[0;32m      <a href='vscode-notebook-cell:/c%3A/Users/hayes/Documents/Github/Structured_Light_Camera/ProjectorCameraCalibration/caliNotebook.ipynb#W6sZmlsZQ%3D%3D?line=5'>6</a>\u001b[0m decoded_x_path \u001b[39m=\u001b[39m os\u001b[39m.\u001b[39mpath\u001b[39m.\u001b[39mjoin(OUTPUT_DIR, os\u001b[39m.\u001b[39mpath\u001b[39m.\u001b[39msplitext(w_file)[\u001b[39m0\u001b[39m] \u001b[39m+\u001b[39m \u001b[39m'\u001b[39m\u001b[39m_x.exr\u001b[39m\u001b[39m'\u001b[39m)\n\u001b[0;32m      <a href='vscode-notebook-cell:/c%3A/Users/hayes/Documents/Github/Structured_Light_Camera/ProjectorCameraCalibration/caliNotebook.ipynb#W6sZmlsZQ%3D%3D?line=6'>7</a>\u001b[0m decoded_y_path \u001b[39m=\u001b[39m os\u001b[39m.\u001b[39mpath\u001b[39m.\u001b[39mjoin(OUTPUT_DIR, os\u001b[39m.\u001b[39mpath\u001b[39m.\u001b[39msplitext(w_file)[\u001b[39m0\u001b[39m] \u001b[39m+\u001b[39m \u001b[39m'\u001b[39m\u001b[39m_y.exr\u001b[39m\u001b[39m'\u001b[39m)\n\u001b[1;32m----> <a href='vscode-notebook-cell:/c%3A/Users/hayes/Documents/Github/Structured_Light_Camera/ProjectorCameraCalibration/caliNotebook.ipynb#W6sZmlsZQ%3D%3D?line=8'>9</a>\u001b[0m decoded_x \u001b[39m=\u001b[39m cv2\u001b[39m.\u001b[39;49mimread(decoded_x_path, cv2\u001b[39m.\u001b[39;49mIMREAD_UNCHANGED)\u001b[39m.\u001b[39;49mastype(np\u001b[39m.\u001b[39mfloat32)\n\u001b[0;32m     <a href='vscode-notebook-cell:/c%3A/Users/hayes/Documents/Github/Structured_Light_Camera/ProjectorCameraCalibration/caliNotebook.ipynb#W6sZmlsZQ%3D%3D?line=9'>10</a>\u001b[0m decoded_y \u001b[39m=\u001b[39m cv2\u001b[39m.\u001b[39mimread(decoded_y_path, cv2\u001b[39m.\u001b[39mIMREAD_UNCHANGED)\u001b[39m.\u001b[39mastype(np\u001b[39m.\u001b[39mfloat32)\n\u001b[0;32m     <a href='vscode-notebook-cell:/c%3A/Users/hayes/Documents/Github/Structured_Light_Camera/ProjectorCameraCalibration/caliNotebook.ipynb#W6sZmlsZQ%3D%3D?line=11'>12</a>\u001b[0m projector_corners \u001b[39m=\u001b[39m convert_to_projector_coordinates(camera_corners, decoded_x, decoded_y)\n",
      "\u001b[1;31mAttributeError\u001b[0m: 'NoneType' object has no attribute 'astype'"
     ]
    }
   ],
   "source": [
    "for w_file in white_files:\n",
    "    camera_image_path = os.path.join(INPUT_DIR, w_file)\n",
    "    camera_corners = detect_corners(camera_image_path)\n",
    "    if camera_corners is not None:\n",
    "        print(decoded_x_path)\n",
    "        decoded_x_path = os.path.join(OUTPUT_DIR, os.path.splitext(w_file)[0] + '_x.exr')\n",
    "        decoded_y_path = os.path.join(OUTPUT_DIR, os.path.splitext(w_file)[0] + '_y.exr')\n",
    "\n",
    "        decoded_x = cv2.imread(decoded_x_path, cv2.IMREAD_UNCHANGED).astype(np.float32)\n",
    "        decoded_y = cv2.imread(decoded_y_path, cv2.IMREAD_UNCHANGED).astype(np.float32)\n",
    "\n",
    "        projector_corners = convert_to_projector_coordinates(camera_corners, decoded_x, decoded_y)\n",
    "\n",
    "        if len(camera_corners) != len(projector_corners):\n",
    "            print(f\"Skipping {w_file} due to inconsistent corner detection.\")\n",
    "            continue\n",
    "\n",
    "        all_camera_corners.append(camera_corners)\n",
    "        all_projector_corners.append(projector_corners)\n",
    "\n",
    "        objp = np.zeros((np.prod(CHESSBOARD_SIZE), 3), np.float32)\n",
    "        objp[:, :2] = np.mgrid[0:CHESSBOARD_SIZE[0], 0:CHESSBOARD_SIZE[1]].T.reshape(-1, 2)\n",
    "        objpoints.append(objp)\n",
    "\n",
    "    else:\n",
    "        print(\"Chessboard corners not found\")"
   ]
  },
  {
   "cell_type": "code",
   "execution_count": null,
   "metadata": {},
   "outputs": [],
   "source": [
    "img_shape = cv2.imread(os.path.join(INPUT_DIR, white_files[0]), cv2.IMREAD_GRAYSCALE).shape[::-1]\n",
    "    print(\"Camera intrinsic parameters:\")\n",
    "    print(all_camera_corners)\n",
    "    cam_matrix, cam_dist, c_rvecs, c_tvecs = compute_intrinsics_and_distortion(objpoints, all_camera_corners, img_shape)\n",
    "    print(\"\\nProjector intrinsic parameters:\")\n",
    "    print(all_projector_corners)\n",
    "    proj_matrix, proj_dist, p_rvecs, p_tvecs = compute_intrinsics_and_distortion(objpoints, all_projector_corners, img_shape)"
   ]
  },
  {
   "cell_type": "code",
   "execution_count": null,
   "metadata": {},
   "outputs": [],
   "source": [
    "R, T = perform_stereo_calibration(objpoints, all_camera_corners, all_projector_corners, cam_matrix, cam_dist, proj_matrix, proj_dist)\n"
   ]
  },
  {
   "cell_type": "code",
   "execution_count": null,
   "metadata": {},
   "outputs": [],
   "source": [
    "print(\"\\nSummary:\")\n",
    "print(f\"Camera Matrix:\\n{cam_matrix}\")\n",
    "print(f\"Camera Distortion Coefficients:\\n{cam_dist}\")\n",
    "print(f\"Projector Matrix:\\n{proj_matrix}\")\n",
    "print(f\"Projector Distortion Coefficients:\\n{proj_dist}\")\n",
    "print(f\"Rotation Matrix (R):\\n{R}\")\n",
    "print(f\"Translation Vector (T):\\n{T}\")"
   ]
  },
  {
   "cell_type": "code",
   "execution_count": null,
   "metadata": {},
   "outputs": [],
   "source": [
    "mean_error = 0\n",
    "for i in range(len(objpoints)):\n",
    "    imgpoints2, _ = cv2.projectPoints(objpoints[i], p_rvecs[i], p_tvecs[i], proj_matrix, proj_dist)\n",
    "    error = cv2.norm(all_projector_corners[i], imgpoints2, cv2.NORM_L2)/len(imgpoints2)\n",
    "    mean_error += error\n",
    "print( \"total projection error: {}\".format(mean_error/len(objpoints)) )"
   ]
  },
  {
   "cell_type": "code",
   "execution_count": null,
   "metadata": {},
   "outputs": [],
   "source": [
    "mean_error = 0\n",
    "for i in range(len(objpoints)):\n",
    "    imgpoints2, _ = cv2.projectPoints(objpoints[i], c_rvecs[i], c_tvecs[i], cam_matrix, cam_dist)\n",
    "    error = cv2.norm(all_camera_corners[i], imgpoints2, cv2.NORM_L2)/len(imgpoints2)\n",
    "    mean_error += error\n",
    "print( \"total camera error: {}\".format(mean_error/len(objpoints)) )"
   ]
  }
 ],
 "metadata": {
  "kernelspec": {
   "display_name": "ML",
   "language": "python",
   "name": "python3"
  },
  "language_info": {
   "codemirror_mode": {
    "name": "ipython",
    "version": 3
   },
   "file_extension": ".py",
   "mimetype": "text/x-python",
   "name": "python",
   "nbconvert_exporter": "python",
   "pygments_lexer": "ipython3",
   "version": "3.10.10"
  }
 },
 "nbformat": 4,
 "nbformat_minor": 2
}
