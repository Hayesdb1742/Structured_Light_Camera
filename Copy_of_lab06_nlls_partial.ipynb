{
  "cells": [
    {
      "cell_type": "markdown",
      "metadata": {
        "id": "view-in-github",
        "colab_type": "text"
      },
      "source": [
        "<a href=\"https://colab.research.google.com/github/Hayesdb1742/Structured_Light_Camera/blob/main/Copy_of_lab06_nlls_partial.ipynb\" target=\"_parent\"><img src=\"https://colab.research.google.com/assets/colab-badge.svg\" alt=\"Open In Colab\"/></a>"
      ]
    },
    {
      "cell_type": "markdown",
      "metadata": {
        "id": "nyqOqz1LccN_"
      },
      "source": [
        "# Lab:  Nonlinear Least-Squares\n",
        "\n",
        "In this lab, we will explore gradient descent for nonlinear least squares.  Our goal is to fit a nonlinear model of the form\n",
        "\n",
        "     yhat ~= f(x,w)\n",
        "     \n",
        "where `x` is a vector of features, `w` is a vector of parameters and `f` is a nonlinear function of `w`.\n",
        "To do this, we will seach for the parameters `w` that minimize the RSS cost\n",
        "\n",
        "     J(w) = \\sum_i (y_i - f(x_i,w))^2\n",
        "     \n",
        "summed over training samples `(x_i,y_i)`.  This problem is known as nonlinear least-squares (NLLS).  In general, this optimization problem has no closed-form expression, and so gradient descent is widely used.  \n",
        "\n",
        "In this lab, we will apply NLLS to a dataset from the National Institute of Standards.  In doing this lab, you will learn to:\n",
        "* Set up a nonlinear least squares as an unconstrained optimization function\n",
        "* Compute initial parameter estimates for a simple rational model\n",
        "* Compute the gradients of the least squares objective\n",
        "* Implement gradient descent for minimizing the objective\n",
        "* Implement momentum gradient descent\n",
        "* Visualize the convergence of the algorithm\n",
        "\n",
        "We first import some key packages."
      ]
    },
    {
      "cell_type": "code",
      "execution_count": 1,
      "metadata": {
        "id": "vAFyKJs6ccOD"
      },
      "outputs": [],
      "source": [
        "import pandas as pd\n",
        "import numpy as np\n",
        "import matplotlib.pyplot as plt\n",
        "from sklearn.linear_model import Ridge, LinearRegression"
      ]
    },
    {
      "cell_type": "markdown",
      "metadata": {
        "id": "FhxgBB9qccOG"
      },
      "source": [
        "## Load the Data\n",
        "\n",
        "The NIST agency has an excellent [nonlinear regression website](https://www.itl.nist.gov/div898/strd/nls/nls_main.shtml) that has several datasets appropriate for nonlinear regression problems.  In this lab, we will use the data from a NIST study involving scanning electron microscope line width standards.\n",
        "\n",
        "You can download the data as follows."
      ]
    },
    {
      "cell_type": "code",
      "execution_count": 2,
      "metadata": {
        "id": "RR3oYAXqccOH",
        "outputId": "a6e0e8f7-03ec-40f4-cd51-b3278ed2c94f",
        "colab": {
          "base_uri": "https://localhost:8080/",
          "height": 423
        }
      },
      "outputs": [
        {
          "output_type": "execute_result",
          "data": {
            "text/plain": [
              "          y0      x0  dummy\n",
              "0     0.0082    9.65    NaN\n",
              "1     0.0112   10.74    NaN\n",
              "2     0.0149   11.81    NaN\n",
              "3     0.0198   12.88    NaN\n",
              "4     0.0248   14.06    NaN\n",
              "..       ...     ...    ...\n",
              "146  90.5500  360.20    NaN\n",
              "147  90.9300  362.67    NaN\n",
              "148  91.2000  364.53    NaN\n",
              "149  91.5500  367.00    NaN\n",
              "150  92.2000  371.30    NaN\n",
              "\n",
              "[151 rows x 3 columns]"
            ],
            "text/html": [
              "\n",
              "  <div id=\"df-7afcf059-6501-4690-8d44-c1fc8154e678\" class=\"colab-df-container\">\n",
              "    <div>\n",
              "<style scoped>\n",
              "    .dataframe tbody tr th:only-of-type {\n",
              "        vertical-align: middle;\n",
              "    }\n",
              "\n",
              "    .dataframe tbody tr th {\n",
              "        vertical-align: top;\n",
              "    }\n",
              "\n",
              "    .dataframe thead th {\n",
              "        text-align: right;\n",
              "    }\n",
              "</style>\n",
              "<table border=\"1\" class=\"dataframe\">\n",
              "  <thead>\n",
              "    <tr style=\"text-align: right;\">\n",
              "      <th></th>\n",
              "      <th>y0</th>\n",
              "      <th>x0</th>\n",
              "      <th>dummy</th>\n",
              "    </tr>\n",
              "  </thead>\n",
              "  <tbody>\n",
              "    <tr>\n",
              "      <th>0</th>\n",
              "      <td>0.0082</td>\n",
              "      <td>9.65</td>\n",
              "      <td>NaN</td>\n",
              "    </tr>\n",
              "    <tr>\n",
              "      <th>1</th>\n",
              "      <td>0.0112</td>\n",
              "      <td>10.74</td>\n",
              "      <td>NaN</td>\n",
              "    </tr>\n",
              "    <tr>\n",
              "      <th>2</th>\n",
              "      <td>0.0149</td>\n",
              "      <td>11.81</td>\n",
              "      <td>NaN</td>\n",
              "    </tr>\n",
              "    <tr>\n",
              "      <th>3</th>\n",
              "      <td>0.0198</td>\n",
              "      <td>12.88</td>\n",
              "      <td>NaN</td>\n",
              "    </tr>\n",
              "    <tr>\n",
              "      <th>4</th>\n",
              "      <td>0.0248</td>\n",
              "      <td>14.06</td>\n",
              "      <td>NaN</td>\n",
              "    </tr>\n",
              "    <tr>\n",
              "      <th>...</th>\n",
              "      <td>...</td>\n",
              "      <td>...</td>\n",
              "      <td>...</td>\n",
              "    </tr>\n",
              "    <tr>\n",
              "      <th>146</th>\n",
              "      <td>90.5500</td>\n",
              "      <td>360.20</td>\n",
              "      <td>NaN</td>\n",
              "    </tr>\n",
              "    <tr>\n",
              "      <th>147</th>\n",
              "      <td>90.9300</td>\n",
              "      <td>362.67</td>\n",
              "      <td>NaN</td>\n",
              "    </tr>\n",
              "    <tr>\n",
              "      <th>148</th>\n",
              "      <td>91.2000</td>\n",
              "      <td>364.53</td>\n",
              "      <td>NaN</td>\n",
              "    </tr>\n",
              "    <tr>\n",
              "      <th>149</th>\n",
              "      <td>91.5500</td>\n",
              "      <td>367.00</td>\n",
              "      <td>NaN</td>\n",
              "    </tr>\n",
              "    <tr>\n",
              "      <th>150</th>\n",
              "      <td>92.2000</td>\n",
              "      <td>371.30</td>\n",
              "      <td>NaN</td>\n",
              "    </tr>\n",
              "  </tbody>\n",
              "</table>\n",
              "<p>151 rows × 3 columns</p>\n",
              "</div>\n",
              "    <div class=\"colab-df-buttons\">\n",
              "\n",
              "  <div class=\"colab-df-container\">\n",
              "    <button class=\"colab-df-convert\" onclick=\"convertToInteractive('df-7afcf059-6501-4690-8d44-c1fc8154e678')\"\n",
              "            title=\"Convert this dataframe to an interactive table.\"\n",
              "            style=\"display:none;\">\n",
              "\n",
              "  <svg xmlns=\"http://www.w3.org/2000/svg\" height=\"24px\" viewBox=\"0 -960 960 960\">\n",
              "    <path d=\"M120-120v-720h720v720H120Zm60-500h600v-160H180v160Zm220 220h160v-160H400v160Zm0 220h160v-160H400v160ZM180-400h160v-160H180v160Zm440 0h160v-160H620v160ZM180-180h160v-160H180v160Zm440 0h160v-160H620v160Z\"/>\n",
              "  </svg>\n",
              "    </button>\n",
              "\n",
              "  <style>\n",
              "    .colab-df-container {\n",
              "      display:flex;\n",
              "      gap: 12px;\n",
              "    }\n",
              "\n",
              "    .colab-df-convert {\n",
              "      background-color: #E8F0FE;\n",
              "      border: none;\n",
              "      border-radius: 50%;\n",
              "      cursor: pointer;\n",
              "      display: none;\n",
              "      fill: #1967D2;\n",
              "      height: 32px;\n",
              "      padding: 0 0 0 0;\n",
              "      width: 32px;\n",
              "    }\n",
              "\n",
              "    .colab-df-convert:hover {\n",
              "      background-color: #E2EBFA;\n",
              "      box-shadow: 0px 1px 2px rgba(60, 64, 67, 0.3), 0px 1px 3px 1px rgba(60, 64, 67, 0.15);\n",
              "      fill: #174EA6;\n",
              "    }\n",
              "\n",
              "    .colab-df-buttons div {\n",
              "      margin-bottom: 4px;\n",
              "    }\n",
              "\n",
              "    [theme=dark] .colab-df-convert {\n",
              "      background-color: #3B4455;\n",
              "      fill: #D2E3FC;\n",
              "    }\n",
              "\n",
              "    [theme=dark] .colab-df-convert:hover {\n",
              "      background-color: #434B5C;\n",
              "      box-shadow: 0px 1px 3px 1px rgba(0, 0, 0, 0.15);\n",
              "      filter: drop-shadow(0px 1px 2px rgba(0, 0, 0, 0.3));\n",
              "      fill: #FFFFFF;\n",
              "    }\n",
              "  </style>\n",
              "\n",
              "    <script>\n",
              "      const buttonEl =\n",
              "        document.querySelector('#df-7afcf059-6501-4690-8d44-c1fc8154e678 button.colab-df-convert');\n",
              "      buttonEl.style.display =\n",
              "        google.colab.kernel.accessAllowed ? 'block' : 'none';\n",
              "\n",
              "      async function convertToInteractive(key) {\n",
              "        const element = document.querySelector('#df-7afcf059-6501-4690-8d44-c1fc8154e678');\n",
              "        const dataTable =\n",
              "          await google.colab.kernel.invokeFunction('convertToInteractive',\n",
              "                                                    [key], {});\n",
              "        if (!dataTable) return;\n",
              "\n",
              "        const docLinkHtml = 'Like what you see? Visit the ' +\n",
              "          '<a target=\"_blank\" href=https://colab.research.google.com/notebooks/data_table.ipynb>data table notebook</a>'\n",
              "          + ' to learn more about interactive tables.';\n",
              "        element.innerHTML = '';\n",
              "        dataTable['output_type'] = 'display_data';\n",
              "        await google.colab.output.renderOutput(dataTable, element);\n",
              "        const docLink = document.createElement('div');\n",
              "        docLink.innerHTML = docLinkHtml;\n",
              "        element.appendChild(docLink);\n",
              "      }\n",
              "    </script>\n",
              "  </div>\n",
              "\n",
              "\n",
              "<div id=\"df-99939c9a-5661-4d11-a699-df2518380556\">\n",
              "  <button class=\"colab-df-quickchart\" onclick=\"quickchart('df-99939c9a-5661-4d11-a699-df2518380556')\"\n",
              "            title=\"Suggest charts.\"\n",
              "            style=\"display:none;\">\n",
              "\n",
              "<svg xmlns=\"http://www.w3.org/2000/svg\" height=\"24px\"viewBox=\"0 0 24 24\"\n",
              "     width=\"24px\">\n",
              "    <g>\n",
              "        <path d=\"M19 3H5c-1.1 0-2 .9-2 2v14c0 1.1.9 2 2 2h14c1.1 0 2-.9 2-2V5c0-1.1-.9-2-2-2zM9 17H7v-7h2v7zm4 0h-2V7h2v10zm4 0h-2v-4h2v4z\"/>\n",
              "    </g>\n",
              "</svg>\n",
              "  </button>\n",
              "\n",
              "<style>\n",
              "  .colab-df-quickchart {\n",
              "      --bg-color: #E8F0FE;\n",
              "      --fill-color: #1967D2;\n",
              "      --hover-bg-color: #E2EBFA;\n",
              "      --hover-fill-color: #174EA6;\n",
              "      --disabled-fill-color: #AAA;\n",
              "      --disabled-bg-color: #DDD;\n",
              "  }\n",
              "\n",
              "  [theme=dark] .colab-df-quickchart {\n",
              "      --bg-color: #3B4455;\n",
              "      --fill-color: #D2E3FC;\n",
              "      --hover-bg-color: #434B5C;\n",
              "      --hover-fill-color: #FFFFFF;\n",
              "      --disabled-bg-color: #3B4455;\n",
              "      --disabled-fill-color: #666;\n",
              "  }\n",
              "\n",
              "  .colab-df-quickchart {\n",
              "    background-color: var(--bg-color);\n",
              "    border: none;\n",
              "    border-radius: 50%;\n",
              "    cursor: pointer;\n",
              "    display: none;\n",
              "    fill: var(--fill-color);\n",
              "    height: 32px;\n",
              "    padding: 0;\n",
              "    width: 32px;\n",
              "  }\n",
              "\n",
              "  .colab-df-quickchart:hover {\n",
              "    background-color: var(--hover-bg-color);\n",
              "    box-shadow: 0 1px 2px rgba(60, 64, 67, 0.3), 0 1px 3px 1px rgba(60, 64, 67, 0.15);\n",
              "    fill: var(--button-hover-fill-color);\n",
              "  }\n",
              "\n",
              "  .colab-df-quickchart-complete:disabled,\n",
              "  .colab-df-quickchart-complete:disabled:hover {\n",
              "    background-color: var(--disabled-bg-color);\n",
              "    fill: var(--disabled-fill-color);\n",
              "    box-shadow: none;\n",
              "  }\n",
              "\n",
              "  .colab-df-spinner {\n",
              "    border: 2px solid var(--fill-color);\n",
              "    border-color: transparent;\n",
              "    border-bottom-color: var(--fill-color);\n",
              "    animation:\n",
              "      spin 1s steps(1) infinite;\n",
              "  }\n",
              "\n",
              "  @keyframes spin {\n",
              "    0% {\n",
              "      border-color: transparent;\n",
              "      border-bottom-color: var(--fill-color);\n",
              "      border-left-color: var(--fill-color);\n",
              "    }\n",
              "    20% {\n",
              "      border-color: transparent;\n",
              "      border-left-color: var(--fill-color);\n",
              "      border-top-color: var(--fill-color);\n",
              "    }\n",
              "    30% {\n",
              "      border-color: transparent;\n",
              "      border-left-color: var(--fill-color);\n",
              "      border-top-color: var(--fill-color);\n",
              "      border-right-color: var(--fill-color);\n",
              "    }\n",
              "    40% {\n",
              "      border-color: transparent;\n",
              "      border-right-color: var(--fill-color);\n",
              "      border-top-color: var(--fill-color);\n",
              "    }\n",
              "    60% {\n",
              "      border-color: transparent;\n",
              "      border-right-color: var(--fill-color);\n",
              "    }\n",
              "    80% {\n",
              "      border-color: transparent;\n",
              "      border-right-color: var(--fill-color);\n",
              "      border-bottom-color: var(--fill-color);\n",
              "    }\n",
              "    90% {\n",
              "      border-color: transparent;\n",
              "      border-bottom-color: var(--fill-color);\n",
              "    }\n",
              "  }\n",
              "</style>\n",
              "\n",
              "  <script>\n",
              "    async function quickchart(key) {\n",
              "      const quickchartButtonEl =\n",
              "        document.querySelector('#' + key + ' button');\n",
              "      quickchartButtonEl.disabled = true;  // To prevent multiple clicks.\n",
              "      quickchartButtonEl.classList.add('colab-df-spinner');\n",
              "      try {\n",
              "        const charts = await google.colab.kernel.invokeFunction(\n",
              "            'suggestCharts', [key], {});\n",
              "      } catch (error) {\n",
              "        console.error('Error during call to suggestCharts:', error);\n",
              "      }\n",
              "      quickchartButtonEl.classList.remove('colab-df-spinner');\n",
              "      quickchartButtonEl.classList.add('colab-df-quickchart-complete');\n",
              "    }\n",
              "    (() => {\n",
              "      let quickchartButtonEl =\n",
              "        document.querySelector('#df-99939c9a-5661-4d11-a699-df2518380556 button');\n",
              "      quickchartButtonEl.style.display =\n",
              "        google.colab.kernel.accessAllowed ? 'block' : 'none';\n",
              "    })();\n",
              "  </script>\n",
              "</div>\n",
              "    </div>\n",
              "  </div>\n"
            ]
          },
          "metadata": {},
          "execution_count": 2
        }
      ],
      "source": [
        "url = 'https://itl.nist.gov/div898/strd/nls/data/LINKS/DATA/Kirby2.dat'\n",
        "df = pd.read_csv(url, skiprows=60, sep=' ',skipinitialspace=True, names=['y0','x0','dummy'])\n",
        "df"
      ]
    },
    {
      "cell_type": "markdown",
      "metadata": {
        "id": "_IO_GbEGccOJ"
      },
      "source": [
        "Extract the `x0` and `y0` into arrays.  Rescale `x0` and `y0` to values between `0` and `1` by dividing `x0` and `y0` by the maximum value.  Store the scaled values in vectors `x` and `y`.  The rescaling will help with the conditioning of the fitting.  Plot `y` vs. `x`."
      ]
    },
    {
      "cell_type": "code",
      "execution_count": 3,
      "metadata": {
        "id": "moC8ueXPccOJ",
        "colab": {
          "base_uri": "https://localhost:8080/",
          "height": 489
        },
        "outputId": "2731ae91-9d0b-411c-9437-a3478cf18c3a"
      },
      "outputs": [
        {
          "output_type": "execute_result",
          "data": {
            "text/plain": [
              "Text(0.5, 1.0, 'x vs y')"
            ]
          },
          "metadata": {},
          "execution_count": 3
        },
        {
          "output_type": "display_data",
          "data": {
            "text/plain": [
              "<Figure size 640x480 with 1 Axes>"
            ],
            "image/png": "[encoded data removed]"
          },
          "metadata": {}
        }
      ],
      "source": [
        "# TODO\n",
        "x0 = df['x0']\n",
        "y0 = df['y0']\n",
        "x = x0/np.max(x0)\n",
        "y = y0/np.max(y0)\n",
        "plt.plot(x,y)\n",
        "plt.xlabel('x')\n",
        "plt.ylabel('y')\n",
        "plt.title('x vs y')"
      ]
    },
    {
      "cell_type": "markdown",
      "metadata": {
        "id": "689PoWmcccOK"
      },
      "source": [
        "To make the problem a little more challenging, we will add some noise.  Add random Gaussian noise with mean 0 and standard deviation = 0.05 to `y`.  Store the noisy results in `yn`. You can use the `np.random.normal()` function to add Gaussian noise. Plot `yn` vs. `x`."
      ]
    },
    {
      "cell_type": "code",
      "execution_count": 4,
      "metadata": {
        "id": "1QQQqRtHccOL",
        "colab": {
          "base_uri": "https://localhost:8080/",
          "height": 489
        },
        "outputId": "81cea04a-a944-48a4-8023-893b5f9d4425"
      },
      "outputs": [
        {
          "output_type": "execute_result",
          "data": {
            "text/plain": [
              "Text(0.5, 1.0, 'yn vs x')"
            ]
          },
          "metadata": {},
          "execution_count": 4
        },
        {
          "output_type": "display_data",
          "data": {
            "text/plain": [
              "<Figure size 640x480 with 1 Axes>"
            ],
            "image/png": "[encoded data removed]"
          },
          "metadata": {}
        }
      ],
      "source": [
        "# TODO\n",
        "yn = y + np.random.normal(0,0.05,len(y))\n",
        "plt.plot(x,yn)\n",
        "plt.xlabel('x')\n",
        "plt.ylabel('yn')\n",
        "plt.title('yn vs x')"
      ]
    },
    {
      "cell_type": "markdown",
      "metadata": {
        "id": "WNY1b4IyccOM"
      },
      "source": [
        "Split the data `(x,yn)` into training and test.  Let `xtr,ytr` be training data and `xts,yts` be the test data.  You can use the `train_test_split` function.  Set `test_size=0.33` so that 1/3 of the samples are held out for test."
      ]
    },
    {
      "cell_type": "code",
      "execution_count": 5,
      "metadata": {
        "id": "9ib57fFjccOO"
      },
      "outputs": [],
      "source": [
        "from sklearn.model_selection import train_test_split\n",
        "\n",
        "# TODO\n",
        "xtr, xts, ytr, yts = train_test_split(x,yn,test_size=0.33)"
      ]
    },
    {
      "cell_type": "markdown",
      "metadata": {
        "id": "MybDLpC9ccOP"
      },
      "source": [
        "## A Rational Model\n",
        "\n",
        "The [NIST website](https://www.itl.nist.gov/div898/strd/nls/data/hahn1.shtml) suggests using a *rational* model of the form,\n",
        "\n",
        "      yhat = (b[0] + b[1]*x + ... + b[d]*x^d)/(1 + a[0]*x + ... + a[m-1]*x^m)\n",
        "      \n",
        "with `d=3`.  The model parameters are `w = [a[0],...,a[m-1],b[0],...,b[d]]`, so there are `d+m+1` parameters total.\n",
        "Complete the function below that takes vectors `w` and `x` and predicts a set of values `yhat` using the above model.\n",
        "   "
      ]
    },
    {
      "cell_type": "code",
      "execution_count": 6,
      "metadata": {
        "id": "-TC38zv2ccOQ"
      },
      "outputs": [],
      "source": [
        "def predict(w,x,m):\n",
        "\n",
        "    # TODO.  Extract a,b from w,m\n",
        "    a = w[0:m]\n",
        "    b = w[m:]\n",
        "\n",
        "    # TODO.  Compute yhat.  You may use the np.polyval function\n",
        "    # But, remember you must flip the order of a and b because np.polyval(c,x) outputs\n",
        "    #  c[0]*x**(d) + c[1]*x**(d-1) + ... + c[d-1]*x + c[d]\n",
        "\n",
        "    arev = a[::-1]\n",
        "    brev = b[::-1]\n",
        "    yhat = np.divide(np.polyval(brev,x),(1+x*(np.polyval(arev,x))))\n",
        "\n",
        "    return yhat"
      ]
    },
    {
      "cell_type": "markdown",
      "metadata": {
        "id": "OjDaCqvfccOQ"
      },
      "source": [
        "Every time you write a block of code, you should test/debug it before moving on.\n",
        "We can test our `predict` function by creating simple instances of `w`, `x`, `m`, `d` for which `yhat` is easily computed by hand.\n",
        "To do this, set `d=2=m` and `x=2` and run it at least once with `w` in `{[0,0,1,0,0],[0,0,0,1,0],[0,0,0,0,1],[1,0,1,0,0],[0,1,1,0,0]}` to be absolutely sure that your `predict` function is working as expected.\n",
        "Don't move on until this step is complete."
      ]
    },
    {
      "cell_type": "code",
      "execution_count": 7,
      "metadata": {
        "id": "XDSsQPEtccOR",
        "colab": {
          "base_uri": "https://localhost:8080/"
        },
        "outputId": "3d4c5678-e958-4479-dbe1-762195125976"
      },
      "outputs": [
        {
          "output_type": "stream",
          "name": "stdout",
          "text": [
            "0.2\n"
          ]
        }
      ],
      "source": [
        "# TODO.  Write a simple piece of debugging code\n",
        "d = 2\n",
        "m = 2\n",
        "x = 2\n",
        "w = np.array([0,1,1,0,0])\n",
        "yhat = predict(w,x,m)\n",
        "print(yhat)\n",
        "## for w in {} above, yhat = {1.0,2.0,4.0,0.5,0.33333}"
      ]
    },
    {
      "cell_type": "markdown",
      "metadata": {
        "id": "zh9SmsXYccOR"
      },
      "source": [
        "## Parameter Initialization\n",
        "\n",
        "When we fit with a nonlinear model, most methods only obtain convergence to a *local* minimum, which is not necessarily good.  To converge to the *global* minimum, we need a good initialization.  For a rational model, one way to get a good initialization is to use the following trick.  First, realize that if\n",
        "\n",
        "    y ~= (b[0] + b[1]*x + ... + b[d]*x^d)/(1 + a[0]*x + ... + a[m-1]*x^m)\n",
        "    \n",
        "then, by rearranging, we get\n",
        "\n",
        "    y ~= - a[0]*y*x + ... - a[m-1]*y*x^m + b[0] + b[1]*x + ... + b[d]*x^d .\n",
        "    \n",
        "Note that this latter model is not useful for *prediction* of `y` from `x`. But it *is* useful for least-squares fitting the parameters `a` and `b` when you have a set of training samples of `x` and `y`.  \n",
        "\n",
        "To do this least-squares fit, we can solve for parameter vector `w = [a,b]` using linear regression with the newly defined `i`th feature vector\n",
        "\n",
        "    Z[i,:] = [ -y[i]*x[i]**1, ... , -y[i]*x[i]**m, x[i]**0, ... , x[i]**d ].\n",
        "    \n",
        "Make sure to use `fit_intercept = False` in `LinearRegression` because the `b[0]` term will act as the intercept.\n",
        "\n",
        "As a hint, realize that a matrix with rows `[ x[i]**0, ... , x[i]**d]` can be efficiently created using broadcasting as `xtr[:,None]**jj[None,:]`, where `jj = [0,...,d]`.  For more on broadcasting, see the demo in Unit 0, especially the \"outer product\" section.  "
      ]
    },
    {
      "cell_type": "code",
      "execution_count": 8,
      "metadata": {
        "id": "e0V-_X-PccOS",
        "colab": {
          "base_uri": "https://localhost:8080/"
        },
        "outputId": "d355d978-e6a1-4091-8970-83d00de9fa52"
      },
      "outputs": [
        {
          "output_type": "stream",
          "name": "stderr",
          "text": [
            "<ipython-input-8-ec35a3df64a7>:8: FutureWarning: Support for multi-dimensional indexing (e.g. `obj[:, None]`) is deprecated and will be removed in a future version.  Convert to a numpy array before indexing instead.\n",
            "  Z1 =  -ytr[:,None]*xtr[:,None]**(kk[None,:])# so that Z1[i,k] = -y[i]*x[i]**(k+1)\n",
            "<ipython-input-8-ec35a3df64a7>:10: FutureWarning: Support for multi-dimensional indexing (e.g. `obj[:, None]`) is deprecated and will be removed in a future version.  Convert to a numpy array before indexing instead.\n",
            "  Z2 = xtr[:,None]**jj[None,:]  # so that Z2[i,j] = x[i]**j\n"
          ]
        }
      ],
      "source": [
        "# Set model order\n",
        "d = 3\n",
        "m = 2\n",
        "\n",
        "# TODO.  Create the transformed feature matrix\n",
        "\n",
        "kk = np.arange(1,m+1) # the vector [1,...,m]\n",
        "Z1 =  -ytr[:,None]*xtr[:,None]**(kk[None,:])# so that Z1[i,k] = -y[i]*x[i]**(k+1)\n",
        "jj = np.arange(0,d+1) # the vector [0,...,d]\n",
        "Z2 = xtr[:,None]**jj[None,:]  # so that Z2[i,j] = x[i]**j\n",
        "Z = np.hstack((Z1, Z2))\n",
        "\n",
        "\n",
        "# # TODO.  Fit with parameters with linear regression\n",
        "regr = LinearRegression(fit_intercept = False)\n",
        "regr.fit(Z,ytr)\n",
        "\n",
        "# Extract the parameters from regr.coef_ and store the parameter vector in winit\n",
        "winit = regr.coef_\n"
      ]
    },
    {
      "cell_type": "markdown",
      "metadata": {
        "id": "s8T3-1XgccOS"
      },
      "source": [
        "Now using the `predict` function and your initial parameter estimate `winit`, compute `yhat` for 1000 values of `x` uniformly spaced over the interval `[0,1]`.  Plot `yhat` versus `x`.  You should see that the prediction curve has some singularities (i.e., places where it goes to infinity).  On the same plot, superimpose the points `(xts,yts)`.  Use the `axis` command to restrict your plot to the interval between -0.1 and 1.1 for both `x` and `y`."
      ]
    },
    {
      "cell_type": "code",
      "execution_count": 9,
      "metadata": {
        "id": "yGoH3eibccOT",
        "colab": {
          "base_uri": "https://localhost:8080/",
          "height": 466
        },
        "outputId": "86903b57-5b84-472b-9090-f98a619e4504"
      },
      "outputs": [
        {
          "output_type": "execute_result",
          "data": {
            "text/plain": [
              "Text(0, 0.5, 'y')"
            ]
          },
          "metadata": {},
          "execution_count": 9
        },
        {
          "output_type": "display_data",
          "data": {
            "text/plain": [
              "<Figure size 640x480 with 1 Axes>"
            ],
            "image/png": "[encoded data removed]"
          },
          "metadata": {}
        }
      ],
      "source": [
        "# TODO\n",
        "xp = np.linspace(0,1,1000)\n",
        "yhat = predict(winit,xp,m)\n",
        "plt.plot(xp,yhat,c='r',label='training prediction')\n",
        "plt.scatter(xts,yts,label='test')\n",
        "plt.axis([-0.1,1.1,-0.1,1.1])\n",
        "plt.legend()\n",
        "plt.xlabel('x')\n",
        "plt.ylabel('y')"
      ]
    },
    {
      "cell_type": "markdown",
      "metadata": {
        "id": "bdfG_hReccOU"
      },
      "source": [
        "The problem with the prediction curve is that the denominator in our polynomial model for `yhat` goes to zero at certain values of `x` in `[0,1]`.  As a result, some of the `z` features become correlated, and the least-squares fit for `winit` includes relatively large coefficient values. To alleviate this problem, we can use Ridge regression instead of least-squares, in order to keep the `winit` parameters closer to zero.  Re-run the fit above with `Ridge` with `alpha = 2e-1`. You should see a much better (but not perfect) fit."
      ]
    },
    {
      "cell_type": "code",
      "execution_count": 10,
      "metadata": {
        "id": "mjNHhrcRccOU",
        "colab": {
          "base_uri": "https://localhost:8080/",
          "height": 466
        },
        "outputId": "310e3b7b-6195-445f-a961-27c412730785"
      },
      "outputs": [
        {
          "output_type": "execute_result",
          "data": {
            "text/plain": [
              "Text(0, 0.5, 'y')"
            ]
          },
          "metadata": {},
          "execution_count": 10
        },
        {
          "output_type": "display_data",
          "data": {
            "text/plain": [
              "<Figure size 640x480 with 1 Axes>"
            ],
            "image/png": "[encoded data removed]"
          },
          "metadata": {}
        }
      ],
      "source": [
        "# TODO.  Fit with parameters with linear regression\n",
        "regr = Ridge(alpha=2e-1,fit_intercept=False)\n",
        "regr.fit(Z,ytr)\n",
        "\n",
        "# TODO\n",
        "#Extract the parameters from regr.coef_\n",
        "winit = regr.coef_\n",
        "\n",
        "# TODO\n",
        "# Plot the results as above\n",
        "yhat = predict(winit,xp,m)\n",
        "plt.plot(xp,yhat,c='r',label='training prediction')\n",
        "plt.scatter(xts,yts,label='test')\n",
        "plt.axis([-0.1,1.1,-0.1,1.1])\n",
        "plt.legend()\n",
        "plt.xlabel('x')\n",
        "plt.ylabel('y')\n"
      ]
    },
    {
      "cell_type": "markdown",
      "metadata": {
        "id": "zUhHIX5_ccOU"
      },
      "source": [
        "## Implementing loss and gradient using Numpy broadcasting\n",
        "\n",
        "We can now use gradient descent to improve our initial estimate of the weights `w` computed using ridge regression.  Complete the construction of the following function, which is used to compute the (scaled) RSS cost\n",
        "\n",
        "    J(w) = \\sum_i (y[i] - yhat[i])^2\n",
        "    \n",
        "and `Jgrad`, the gradient of `J(w)`.  Your code should use Numpy broadcasting and matrix/vector multiplies as needed, and no \"for\" loops.  It should be written as efficiently as possible, so that no computations are repeated unnecessarily."
      ]
    },
    {
      "cell_type": "code",
      "execution_count": 62,
      "metadata": {
        "id": "Yiqxlg6BccOV"
      },
      "outputs": [],
      "source": [
        "from re import X\n",
        "def Jeval(w,x,y,m):\n",
        "\n",
        "    # TODO.  Extract a,b,d from w,m\n",
        "    a = w[0:m]\n",
        "    b = w[m:]\n",
        "    d = len(w)-m-1\n",
        "\n",
        "    # TODO.  From vector x, use broadcasting to create matrix Xnum such that Xnum[i,j] = x[i]**j\n",
        "    jj = np.arange(0,d+1)\n",
        "    Xnum = x[:,None]**jj[None,:]\n",
        "\n",
        "    # TODO.  From vector x, use broadcasting to create matrix Xden such that Xden[i,k] = x[i]**(k+1)\n",
        "    kk = np.arange(1,m+1)\n",
        "    Xden = x[:,None]**kk[None,:]\n",
        "\n",
        "    # TODO.  Compute yhat using Xnum, Xden, a, and b\n",
        "    # yhat = (b[0] + b[1]*x + ... + b[d]*x^d)/(1 + a[0]*x + ... + a[m-1]*x^m)\n",
        "    Ynum = Xnum.dot(b)\n",
        "    Yden = 1+Xden.dot(a)\n",
        "    yhat = np.divide(Ynum,Yden)\n",
        "\n",
        "    # TODO.  Compute loss J from vectors y and yhat\n",
        "\n",
        "    e = yhat-y\n",
        "    J = np.sum(e**2)\n",
        "\n",
        "    # TODO.  Compute loss gradient dJ/dw\n",
        "    print(Xnum.shape,Yden.shape)\n",
        "    print(Ynum.shape,np.sum(Xnum).shape,(Yden**2).shape)\n",
        "\n",
        "    Jgradb = -2*np.sum(e*np.divide(Xnum,Yden))\n",
        "    Jgrada = 2*np.sum(e*np.divide(Ynum*Xden,Yden**2))\n",
        "\n",
        "    Jgrad = np.hstack((Jgrada,Jgradb))\n",
        "\n",
        "    return J,Jgrad"
      ]
    },
    {
      "cell_type": "markdown",
      "metadata": {
        "id": "MOIbonJ0ccOV"
      },
      "source": [
        "First, test the `yhat` steps in the code above by *temporarily* returning `yhat` and comparing it to the output of `predict`. I suggest using `w=winit`, a simple scalar `x` such as `x=np.array([2.])`, and an arbitrary `y` of the same length.  If it fails, you could try a simpler version of `w` to debug the problem.  Don't move on until this step is working."
      ]
    },
    {
      "cell_type": "code",
      "execution_count": 31,
      "metadata": {
        "id": "q8nfdqJ6ccOW",
        "colab": {
          "base_uri": "https://localhost:8080/"
        },
        "outputId": "0bce8ba9-1a67-43d2-d7da-3c8d7b8d8704"
      },
      "outputs": [
        {
          "output_type": "stream",
          "name": "stdout",
          "text": [
            "[-9.28545089] [-9.28545089]\n"
          ]
        }
      ],
      "source": [
        "#TODO\n",
        "# w = winit\n",
        "# x = np.array([2.])\n",
        "# y = np.array([3.])\n",
        "# m = 2\n",
        "# yhat = Jeval(w,x,y,m)\n",
        "# yhat2 = predict(w,x,m)\n",
        "\n",
        "\n",
        "# print(yhat,yhat2) Works!\n"
      ]
    },
    {
      "cell_type": "markdown",
      "metadata": {
        "id": "HhrPOjaLccOX"
      },
      "source": [
        "Now that `yhat` is correctly computed, make sure `Jeval` returns only `J` and `Jgrad`, and comment out the test block above so that your notebook still runs without error.\n",
        "\n",
        "Next, we will test the gradient computation in `Jeval`:\n",
        "* Set `w0 = winit` and compute `J0,Jgrad0 = Jeval(w0,xtr,ytr)`\n",
        "* Generate a random `w1` very close to `w0` and compute `J1,Jgrad1 = Jeval(w1,xtr,ytr)`\n",
        "* Verify that `J1-J0` matches `Jgrad0.dot(w1-w0)` up to several digits of precision\n",
        "\n",
        "Don't move on until this step is working."
      ]
    },
    {
      "cell_type": "code",
      "execution_count": 63,
      "metadata": {
        "id": "dN2BMfnxccOX",
        "colab": {
          "base_uri": "https://localhost:8080/",
          "height": 490
        },
        "outputId": "0c7e098d-fcd2-45b3-c5d4-7ce6945ce011"
      },
      "outputs": [
        {
          "output_type": "stream",
          "name": "stdout",
          "text": [
            "(101, 4) (101,)\n",
            "(101,) () (101,)\n"
          ]
        },
        {
          "output_type": "stream",
          "name": "stderr",
          "text": [
            "<ipython-input-62-a4d4b1093510>:11: FutureWarning: Support for multi-dimensional indexing (e.g. `obj[:, None]`) is deprecated and will be removed in a future version.  Convert to a numpy array before indexing instead.\n",
            "  Xnum = x[:,None]**jj[None,:]\n",
            "<ipython-input-62-a4d4b1093510>:15: FutureWarning: Support for multi-dimensional indexing (e.g. `obj[:, None]`) is deprecated and will be removed in a future version.  Convert to a numpy array before indexing instead.\n",
            "  Xden = x[:,None]**kk[None,:]\n"
          ]
        },
        {
          "output_type": "error",
          "ename": "ValueError",
          "evalue": "ignored",
          "traceback": [
            "\u001b[0;31m---------------------------------------------------------------------------\u001b[0m",
            "\u001b[0;31mValueError\u001b[0m                                Traceback (most recent call last)",
            "\u001b[0;32m<ipython-input-63-12ccffafcf33>\u001b[0m in \u001b[0;36m<cell line: 4>\u001b[0;34m()\u001b[0m\n\u001b[1;32m      2\u001b[0m \u001b[0mw0\u001b[0m \u001b[0;34m=\u001b[0m \u001b[0mwinit\u001b[0m\u001b[0;34m\u001b[0m\u001b[0;34m\u001b[0m\u001b[0m\n\u001b[1;32m      3\u001b[0m \u001b[0mw1\u001b[0m \u001b[0;34m=\u001b[0m \u001b[0mw0\u001b[0m \u001b[0;34m+\u001b[0m \u001b[0mnp\u001b[0m\u001b[0;34m.\u001b[0m\u001b[0mrandom\u001b[0m\u001b[0;34m.\u001b[0m\u001b[0mnormal\u001b[0m\u001b[0;34m(\u001b[0m\u001b[0;36m0\u001b[0m\u001b[0;34m,\u001b[0m\u001b[0;36m0.1\u001b[0m\u001b[0;34m,\u001b[0m\u001b[0mlen\u001b[0m\u001b[0;34m(\u001b[0m\u001b[0mw0\u001b[0m\u001b[0;34m)\u001b[0m\u001b[0;34m)\u001b[0m\u001b[0;34m\u001b[0m\u001b[0;34m\u001b[0m\u001b[0m\n\u001b[0;32m----> 4\u001b[0;31m \u001b[0mJ0\u001b[0m\u001b[0;34m,\u001b[0m \u001b[0mJgrad0\u001b[0m \u001b[0;34m=\u001b[0m \u001b[0mJeval\u001b[0m\u001b[0;34m(\u001b[0m\u001b[0mw0\u001b[0m\u001b[0;34m,\u001b[0m\u001b[0mxtr\u001b[0m\u001b[0;34m,\u001b[0m\u001b[0mytr\u001b[0m\u001b[0;34m,\u001b[0m\u001b[0mm\u001b[0m\u001b[0;34m)\u001b[0m\u001b[0;34m\u001b[0m\u001b[0;34m\u001b[0m\u001b[0m\n\u001b[0m\u001b[1;32m      5\u001b[0m \u001b[0mJ1\u001b[0m\u001b[0;34m,\u001b[0m \u001b[0mJgrad1\u001b[0m \u001b[0;34m=\u001b[0m \u001b[0mJeval\u001b[0m\u001b[0;34m(\u001b[0m\u001b[0mw1\u001b[0m\u001b[0;34m,\u001b[0m\u001b[0mxtr\u001b[0m\u001b[0;34m,\u001b[0m\u001b[0mytr\u001b[0m\u001b[0;34m,\u001b[0m\u001b[0mm\u001b[0m\u001b[0;34m)\u001b[0m\u001b[0;34m\u001b[0m\u001b[0;34m\u001b[0m\u001b[0m\n\u001b[1;32m      6\u001b[0m \u001b[0merror\u001b[0m \u001b[0;34m=\u001b[0m \u001b[0mJ1\u001b[0m \u001b[0;34m-\u001b[0m \u001b[0mJ0\u001b[0m\u001b[0;34m\u001b[0m\u001b[0;34m\u001b[0m\u001b[0m\n",
            "\u001b[0;32m<ipython-input-62-a4d4b1093510>\u001b[0m in \u001b[0;36mJeval\u001b[0;34m(w, x, y, m)\u001b[0m\n\u001b[1;32m     30\u001b[0m     \u001b[0mprint\u001b[0m\u001b[0;34m(\u001b[0m\u001b[0mYnum\u001b[0m\u001b[0;34m.\u001b[0m\u001b[0mshape\u001b[0m\u001b[0;34m,\u001b[0m\u001b[0mnp\u001b[0m\u001b[0;34m.\u001b[0m\u001b[0msum\u001b[0m\u001b[0;34m(\u001b[0m\u001b[0mXnum\u001b[0m\u001b[0;34m)\u001b[0m\u001b[0;34m.\u001b[0m\u001b[0mshape\u001b[0m\u001b[0;34m,\u001b[0m\u001b[0;34m(\u001b[0m\u001b[0mYden\u001b[0m\u001b[0;34m**\u001b[0m\u001b[0;36m2\u001b[0m\u001b[0;34m)\u001b[0m\u001b[0;34m.\u001b[0m\u001b[0mshape\u001b[0m\u001b[0;34m)\u001b[0m\u001b[0;34m\u001b[0m\u001b[0;34m\u001b[0m\u001b[0m\n\u001b[1;32m     31\u001b[0m \u001b[0;34m\u001b[0m\u001b[0m\n\u001b[0;32m---> 32\u001b[0;31m     \u001b[0mJgradb\u001b[0m \u001b[0;34m=\u001b[0m \u001b[0;34m-\u001b[0m\u001b[0;36m2\u001b[0m\u001b[0;34m*\u001b[0m\u001b[0mnp\u001b[0m\u001b[0;34m.\u001b[0m\u001b[0msum\u001b[0m\u001b[0;34m(\u001b[0m\u001b[0me\u001b[0m\u001b[0;34m*\u001b[0m\u001b[0mnp\u001b[0m\u001b[0;34m.\u001b[0m\u001b[0mdivide\u001b[0m\u001b[0;34m(\u001b[0m\u001b[0mXnum\u001b[0m\u001b[0;34m,\u001b[0m\u001b[0mYden\u001b[0m\u001b[0;34m)\u001b[0m\u001b[0;34m)\u001b[0m\u001b[0;34m\u001b[0m\u001b[0;34m\u001b[0m\u001b[0m\n\u001b[0m\u001b[1;32m     33\u001b[0m     \u001b[0mJgrada\u001b[0m \u001b[0;34m=\u001b[0m \u001b[0;36m2\u001b[0m\u001b[0;34m*\u001b[0m\u001b[0mnp\u001b[0m\u001b[0;34m.\u001b[0m\u001b[0msum\u001b[0m\u001b[0;34m(\u001b[0m\u001b[0me\u001b[0m\u001b[0;34m*\u001b[0m\u001b[0mnp\u001b[0m\u001b[0;34m.\u001b[0m\u001b[0mdivide\u001b[0m\u001b[0;34m(\u001b[0m\u001b[0mYnum\u001b[0m\u001b[0;34m*\u001b[0m\u001b[0mXden\u001b[0m\u001b[0;34m,\u001b[0m\u001b[0mYden\u001b[0m\u001b[0;34m**\u001b[0m\u001b[0;36m2\u001b[0m\u001b[0;34m)\u001b[0m\u001b[0;34m)\u001b[0m\u001b[0;34m\u001b[0m\u001b[0;34m\u001b[0m\u001b[0m\n\u001b[1;32m     34\u001b[0m \u001b[0;34m\u001b[0m\u001b[0m\n",
            "\u001b[0;31mValueError\u001b[0m: operands could not be broadcast together with shapes (101,4) (101,) "
          ]
        }
      ],
      "source": [
        "# TODO\n",
        "w0 = winit\n",
        "w1 = w0 + np.random.normal(0,0.1,len(w0))\n",
        "J0, Jgrad0 = Jeval(w0,xtr,ytr,m)\n",
        "J1, Jgrad1 = Jeval(w1,xtr,ytr,m)\n",
        "error = J1 - J0\n",
        "jgradtest = Jgrad0.dot(w1-w0)\n",
        "\n",
        "print(error,jgradtest)\n"
      ]
    },
    {
      "cell_type": "markdown",
      "metadata": {
        "id": "wA5T499WccOX"
      },
      "source": [
        "## Implement gradient descent\n",
        "\n",
        "We will now attempt to minimize the loss function using gradient descent.  Using the function `Jeval` defined above, implement gradient descent.  Run gradient descent with a step size of `alpha=1e-4` starting at `w=winit`.  Run it for `nit=100000` iterations.  Compute `Jgd[it]`, the cost attained by gradient descent at iteration `it`.  Plot `Jgd[it]` vs. `it` on a log-log scale.  \n",
        "\n",
        "You should see that the training loss decreases but does not fully converge after 10000 iterations."
      ]
    },
    {
      "cell_type": "code",
      "execution_count": null,
      "metadata": {
        "id": "b1u4SrvEccOY"
      },
      "outputs": [],
      "source": [
        "# TODO\n",
        "nit = 100000\n",
        "step = 1e-4\n"
      ]
    },
    {
      "cell_type": "markdown",
      "metadata": {
        "id": "MNWJ2aAdccOY"
      },
      "source": [
        "Now try to get a faster convergence using adaptive step-size via the Armijo rule. Implement Armijo gradient descent.  Let `Jadapt[it]` be the loss value that it attains on iteration `it`.  Plot `Jadapt[it]` and `Jgd[it]` vs. `it` on the same log-log graph.  You should see some improvement, but also some lingering problems."
      ]
    },
    {
      "cell_type": "code",
      "execution_count": null,
      "metadata": {
        "scrolled": true,
        "id": "BQCG1xcnccOY"
      },
      "outputs": [],
      "source": [
        "# TODO\n",
        "nit = 100000\n",
        "step = 1e-3  # Initial step\n"
      ]
    },
    {
      "cell_type": "markdown",
      "metadata": {
        "id": "trp8HlmqccOY"
      },
      "source": [
        "Using the final estimate for `w` from the adaptive step-size approach, plot the predicted value of `yhat` vs. `x` for 1000 values of `x` in `[0,1]`.  On the same plot, plot `yhat` vs. `x` for the initial parameter `w=winit`  computed using ridge regression.  Also, plot the test data, `yts` vs. `xts`.  You should see that gradient descent was able to improve the prediction model."
      ]
    },
    {
      "cell_type": "code",
      "execution_count": null,
      "metadata": {
        "id": "fQmk9puBccOZ"
      },
      "outputs": [],
      "source": [
        "#TODO\n"
      ]
    },
    {
      "cell_type": "markdown",
      "metadata": {
        "id": "X8BVT5azccOZ"
      },
      "source": [
        "## Momentum Gradient Descent\n",
        "\n",
        "This section is optional.\n",
        "\n",
        "One way to improve gradient descent is to use *momentum*.  With momentum, the gradient-descent update rule becomes:\n",
        "\n",
        "    J, Jgrad = Jeval(w,...)\n",
        "    z = beta*z + Jgrad\n",
        "    w = w - step*z\n",
        "    \n",
        "This is similar to gradient descent, except that the update direction `z` is the sum of the gradient `Jgrad` and the previous update direction `z`, which tends to keep the algorithm moving in the same direction (instead of randomly changing directions, as it would if `z=Jgrad`).  Implement momentum gradient-descent with `beta = 0.95` and `step=1e-3`.  Compare the convergence of this approach to plain gradient descent and the adaptive stepsize version.  "
      ]
    },
    {
      "cell_type": "code",
      "execution_count": null,
      "metadata": {
        "id": "EtzANxcgccOZ"
      },
      "outputs": [],
      "source": [
        "# TODO\n",
        "nit = 100000\n",
        "step = 1e-3\n",
        "beta = 0.95\n"
      ]
    },
    {
      "cell_type": "markdown",
      "metadata": {
        "id": "A0YzYpcvccOa"
      },
      "source": [
        "Using the final estimate for `w` from the momentum approach, plot the predicted value of `yhat` vs. `x` for 1000 values of `x` in `[0,1]`.  On the same plot, plot `yhat` vs. `x` for the adaptive stepsize method.  Also, plot the test data, `yts` vs. `xts`.  "
      ]
    },
    {
      "cell_type": "code",
      "execution_count": null,
      "metadata": {
        "id": "tNz_9TSSccOa"
      },
      "outputs": [],
      "source": [
        "# TODO\n"
      ]
    },
    {
      "cell_type": "code",
      "execution_count": null,
      "metadata": {
        "id": "7tBgG1_RccOb"
      },
      "outputs": [],
      "source": []
    }
  ],
  "metadata": {
    "kernelspec": {
      "display_name": "Python 3 (ipykernel)",
      "language": "python",
      "name": "python3"
    },
    "language_info": {
      "codemirror_mode": {
        "name": "ipython",
        "version": 3
      },
      "file_extension": ".py",
      "mimetype": "text/x-python",
      "name": "python",
      "nbconvert_exporter": "python",
      "pygments_lexer": "ipython3",
      "version": "3.11.6"
    },
    "varInspector": {
      "cols": {
        "lenName": 16,
        "lenType": 16,
        "lenVar": 40
      },
      "kernels_config": {
        "python": {
          "delete_cmd_postfix": "",
          "delete_cmd_prefix": "del ",
          "library": "var_list.py",
          "varRefreshCmd": "print(var_dic_list())"
        },
        "r": {
          "delete_cmd_postfix": ") ",
          "delete_cmd_prefix": "rm(",
          "library": "var_list.r",
          "varRefreshCmd": "cat(var_dic_list()) "
        }
      },
      "types_to_exclude": [
        "module",
        "function",
        "builtin_function_or_method",
        "instance",
        "_Feature"
      ],
      "window_display": false
    },
    "colab": {
      "provenance": [],
      "include_colab_link": true
    }
  },
  "nbformat": 4,
  "nbformat_minor": 0
}